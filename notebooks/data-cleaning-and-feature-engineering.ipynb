{
 "cells": [
  {
   "cell_type": "markdown",
   "id": "7e3400c7",
   "metadata": {},
   "source": [
    "# 🧹 **Data Cleaning & Feature Engineering** — Housing Prices in India\n",
    "\n",
    "---\n",
    "\n",
    "### 🔗 **Notebook Context**\n",
    "This notebook is the **second stage** of the *Housing Prices in India* project.  \n",
    "In the previous notebook, we performed an **Exploratory Data Analysis (EDA)** to understand data distributions, relationships, and patterns.  \n",
    "\n",
    "Here, we’ll implement the **data cleaning and feature engineering** processes guided by insights from the EDA.  \n",
    "The cleaned dataset will serve as the foundation for the machine learning model in the next stage.\n",
    "\n",
    "---\n",
    "\n",
    "## 🧭 **Objectives**\n",
    "\n",
    "1. Load and review the raw dataset  \n",
    "2. Implement data cleaning strategies identified during EDA  \n",
    "3. Handle missing values, duplicates, and inconsistent entries  \n",
    "4. Engineer meaningful features for improved model performance  \n",
    "5. Save the cleaned and transformed dataset for modeling  \n",
    "\n",
    "---\n",
    "\n",
    "## 📦 **1. Setup & Data Loading**\n",
    "- Import relevant libraries  \n",
    "- Load dataset  \n",
    "- Verify data integrity (shape, columns, dtypes)  "
   ]
  },
  {
   "cell_type": "code",
   "execution_count": 26,
   "id": "71b2ffdc",
   "metadata": {},
   "outputs": [],
   "source": [
    "import pandas as pd\n",
    "import matplotlib.pyplot as plt\n",
    "plt.style.use('ggplot')\n",
    "from IPython.display import display"
   ]
  },
  {
   "cell_type": "code",
   "execution_count": 15,
   "id": "41472faa",
   "metadata": {},
   "outputs": [
    {
     "data": {
      "text/html": [
       "<div>\n",
       "<style scoped>\n",
       "    .dataframe tbody tr th:only-of-type {\n",
       "        vertical-align: middle;\n",
       "    }\n",
       "\n",
       "    .dataframe tbody tr th {\n",
       "        vertical-align: top;\n",
       "    }\n",
       "\n",
       "    .dataframe thead th {\n",
       "        text-align: right;\n",
       "    }\n",
       "</style>\n",
       "<table border=\"1\" class=\"dataframe\">\n",
       "  <thead>\n",
       "    <tr style=\"text-align: right;\">\n",
       "      <th></th>\n",
       "      <th>POSTED_BY</th>\n",
       "      <th>UNDER_CONSTRUCTION</th>\n",
       "      <th>RERA</th>\n",
       "      <th>BHK_NO.</th>\n",
       "      <th>BHK_OR_RK</th>\n",
       "      <th>SQUARE_FT</th>\n",
       "      <th>READY_TO_MOVE</th>\n",
       "      <th>RESALE</th>\n",
       "      <th>ADDRESS</th>\n",
       "      <th>LONGITUDE</th>\n",
       "      <th>LATITUDE</th>\n",
       "      <th>TARGET(PRICE_IN_LACS)</th>\n",
       "    </tr>\n",
       "  </thead>\n",
       "  <tbody>\n",
       "    <tr>\n",
       "      <th>0</th>\n",
       "      <td>Owner</td>\n",
       "      <td>0</td>\n",
       "      <td>0</td>\n",
       "      <td>2</td>\n",
       "      <td>BHK</td>\n",
       "      <td>1300.236407</td>\n",
       "      <td>1</td>\n",
       "      <td>1</td>\n",
       "      <td>Ksfc Layout,Bangalore</td>\n",
       "      <td>12.969910</td>\n",
       "      <td>77.597960</td>\n",
       "      <td>55.0</td>\n",
       "    </tr>\n",
       "    <tr>\n",
       "      <th>1</th>\n",
       "      <td>Dealer</td>\n",
       "      <td>0</td>\n",
       "      <td>0</td>\n",
       "      <td>2</td>\n",
       "      <td>BHK</td>\n",
       "      <td>1275.000000</td>\n",
       "      <td>1</td>\n",
       "      <td>1</td>\n",
       "      <td>Vishweshwara Nagar,Mysore</td>\n",
       "      <td>12.274538</td>\n",
       "      <td>76.644605</td>\n",
       "      <td>51.0</td>\n",
       "    </tr>\n",
       "    <tr>\n",
       "      <th>2</th>\n",
       "      <td>Owner</td>\n",
       "      <td>0</td>\n",
       "      <td>0</td>\n",
       "      <td>2</td>\n",
       "      <td>BHK</td>\n",
       "      <td>933.159722</td>\n",
       "      <td>1</td>\n",
       "      <td>1</td>\n",
       "      <td>Jigani,Bangalore</td>\n",
       "      <td>12.778033</td>\n",
       "      <td>77.632191</td>\n",
       "      <td>43.0</td>\n",
       "    </tr>\n",
       "    <tr>\n",
       "      <th>3</th>\n",
       "      <td>Owner</td>\n",
       "      <td>0</td>\n",
       "      <td>1</td>\n",
       "      <td>2</td>\n",
       "      <td>BHK</td>\n",
       "      <td>929.921143</td>\n",
       "      <td>1</td>\n",
       "      <td>1</td>\n",
       "      <td>Sector-1 Vaishali,Ghaziabad</td>\n",
       "      <td>28.642300</td>\n",
       "      <td>77.344500</td>\n",
       "      <td>62.5</td>\n",
       "    </tr>\n",
       "    <tr>\n",
       "      <th>4</th>\n",
       "      <td>Dealer</td>\n",
       "      <td>1</td>\n",
       "      <td>0</td>\n",
       "      <td>2</td>\n",
       "      <td>BHK</td>\n",
       "      <td>999.009247</td>\n",
       "      <td>0</td>\n",
       "      <td>1</td>\n",
       "      <td>New Town,Kolkata</td>\n",
       "      <td>22.592200</td>\n",
       "      <td>88.484911</td>\n",
       "      <td>60.5</td>\n",
       "    </tr>\n",
       "  </tbody>\n",
       "</table>\n",
       "</div>"
      ],
      "text/plain": [
       "  POSTED_BY  UNDER_CONSTRUCTION  RERA  BHK_NO. BHK_OR_RK    SQUARE_FT  \\\n",
       "0     Owner                   0     0        2       BHK  1300.236407   \n",
       "1    Dealer                   0     0        2       BHK  1275.000000   \n",
       "2     Owner                   0     0        2       BHK   933.159722   \n",
       "3     Owner                   0     1        2       BHK   929.921143   \n",
       "4    Dealer                   1     0        2       BHK   999.009247   \n",
       "\n",
       "   READY_TO_MOVE  RESALE                      ADDRESS  LONGITUDE   LATITUDE  \\\n",
       "0              1       1        Ksfc Layout,Bangalore  12.969910  77.597960   \n",
       "1              1       1    Vishweshwara Nagar,Mysore  12.274538  76.644605   \n",
       "2              1       1             Jigani,Bangalore  12.778033  77.632191   \n",
       "3              1       1  Sector-1 Vaishali,Ghaziabad  28.642300  77.344500   \n",
       "4              0       1             New Town,Kolkata  22.592200  88.484911   \n",
       "\n",
       "   TARGET(PRICE_IN_LACS)  \n",
       "0                   55.0  \n",
       "1                   51.0  \n",
       "2                   43.0  \n",
       "3                   62.5  \n",
       "4                   60.5  "
      ]
     },
     "metadata": {},
     "output_type": "display_data"
    },
    {
     "name": "stdout",
     "output_type": "stream",
     "text": [
      "<class 'pandas.core.frame.DataFrame'>\n",
      "RangeIndex: 29451 entries, 0 to 29450\n",
      "Data columns (total 12 columns):\n",
      " #   Column                 Non-Null Count  Dtype  \n",
      "---  ------                 --------------  -----  \n",
      " 0   POSTED_BY              29451 non-null  object \n",
      " 1   UNDER_CONSTRUCTION     29451 non-null  int64  \n",
      " 2   RERA                   29451 non-null  int64  \n",
      " 3   BHK_NO.                29451 non-null  int64  \n",
      " 4   BHK_OR_RK              29451 non-null  object \n",
      " 5   SQUARE_FT              29451 non-null  float64\n",
      " 6   READY_TO_MOVE          29451 non-null  int64  \n",
      " 7   RESALE                 29451 non-null  int64  \n",
      " 8   ADDRESS                29451 non-null  object \n",
      " 9   LONGITUDE              29451 non-null  float64\n",
      " 10  LATITUDE               29451 non-null  float64\n",
      " 11  TARGET(PRICE_IN_LACS)  29451 non-null  float64\n",
      "dtypes: float64(4), int64(5), object(3)\n",
      "memory usage: 2.7+ MB\n"
     ]
    },
    {
     "data": {
      "text/plain": [
       "None"
      ]
     },
     "metadata": {},
     "output_type": "display_data"
    },
    {
     "data": {
      "text/plain": [
       "(29451, 12)"
      ]
     },
     "metadata": {},
     "output_type": "display_data"
    }
   ],
   "source": [
    "df = pd.read_csv('../data/train.csv')\n",
    "display(df.head())\n",
    "display(df.info())\n",
    "display(df.shape)"
   ]
  },
  {
   "cell_type": "markdown",
   "id": "b6089506",
   "metadata": {},
   "source": [
    "Now, the dataset remains in the right format as expected.\n",
    "## Data Cleaning\n",
    "### **Rename column names**\n",
    "The first step is to rename the column, set the names to lower case, then, set all binary values to their appropriate values so that we can use Label encoding on them."
   ]
  },
  {
   "cell_type": "code",
   "execution_count": 16,
   "id": "d216a645",
   "metadata": {},
   "outputs": [],
   "source": [
    "# Rename columns to lower case\n",
    "try:\n",
    "    df.rename(columns={'TARGET(PRICE_IN_LACS)': 'PRICE'})\n",
    "    df.rename(columns=lambda x: x.lower(), inplace=True)\n",
    "\n",
    "    df.rename(columns={\n",
    "            'rera': 'rera_approved',\n",
    "            'bhk_no.': 'num_of_rooms',\n",
    "            'square_ft': 'total_area',\n",
    "            'target(price_in_lacs)': 'price'\n",
    "        }, inplace=True)\n",
    "except Exception as e:\n",
    "    print(f\"Error renaming columns: {e}\")"
   ]
  },
  {
   "cell_type": "code",
   "execution_count": 17,
   "id": "bbcd8195",
   "metadata": {},
   "outputs": [
    {
     "name": "stdout",
     "output_type": "stream",
     "text": [
      "Percentage of duplicated rows: 1.36%\n"
     ]
    }
   ],
   "source": [
    "pct_duplicated = 100 * df.duplicated().sum() / len(df)\n",
    "print(f\"Percentage of duplicated rows: {pct_duplicated:.2f}%\")"
   ]
  },
  {
   "cell_type": "markdown",
   "id": "c7acfb07",
   "metadata": {},
   "source": [
    "### **Handle Duplicates**\n",
    "\n",
    "Now, the next step is to drop duplicate data. Though, this is allowed it is allowed in the real-estate industry that we can have multiple, identical houses in the same compound sharing exactyly the same attributes including prices. \n",
    "\n",
    "In our case, the house numbers or block numbers are not provided, so duplicates are allowed, for machine learning modelling, only one is enough to provide the required information.\n",
    "\n",
    "In addition, since only **1.36%** of the data has duplicates, we can drop the duplicates."
   ]
  },
  {
   "cell_type": "code",
   "execution_count": 18,
   "id": "6bd2cd01",
   "metadata": {},
   "outputs": [],
   "source": [
    "df.drop_duplicates(inplace=True)\n",
    "assert df.duplicated().sum() == 0"
   ]
  },
  {
   "cell_type": "markdown",
   "id": "e8492af0",
   "metadata": {},
   "source": [
    "### **Handle Binary Features**\n",
    "The binary features which are already encoded as integers need to be set to their semantic meaning so that Label Encoder can appropriately work on them during data preparation for modelling.\n",
    "\n"
   ]
  },
  {
   "cell_type": "code",
   "execution_count": 19,
   "id": "8040ee8e",
   "metadata": {},
   "outputs": [],
   "source": [
    "df['rera_approved'] = df['rera_approved'].map({1: 'Yes', 0: 'No'})\n",
    "df['ready_to_move'] = df['ready_to_move'].map({1: 'Yes', 0: 'No'})\n",
    "df['resale'] = df['resale'].map({1: 'Yes', 0: 'No'})\n",
    "df['under_construction'] = df['under_construction'].map({1: 'Yes', 0: 'No'})"
   ]
  },
  {
   "cell_type": "code",
   "execution_count": 20,
   "id": "bc90f00e",
   "metadata": {},
   "outputs": [
    {
     "data": {
      "text/html": [
       "<div>\n",
       "<style scoped>\n",
       "    .dataframe tbody tr th:only-of-type {\n",
       "        vertical-align: middle;\n",
       "    }\n",
       "\n",
       "    .dataframe tbody tr th {\n",
       "        vertical-align: top;\n",
       "    }\n",
       "\n",
       "    .dataframe thead th {\n",
       "        text-align: right;\n",
       "    }\n",
       "</style>\n",
       "<table border=\"1\" class=\"dataframe\">\n",
       "  <thead>\n",
       "    <tr style=\"text-align: right;\">\n",
       "      <th></th>\n",
       "      <th>posted_by</th>\n",
       "      <th>under_construction</th>\n",
       "      <th>rera_approved</th>\n",
       "      <th>num_of_rooms</th>\n",
       "      <th>bhk_or_rk</th>\n",
       "      <th>total_area</th>\n",
       "      <th>ready_to_move</th>\n",
       "      <th>resale</th>\n",
       "      <th>address</th>\n",
       "      <th>longitude</th>\n",
       "      <th>latitude</th>\n",
       "      <th>price</th>\n",
       "    </tr>\n",
       "  </thead>\n",
       "  <tbody>\n",
       "    <tr>\n",
       "      <th>0</th>\n",
       "      <td>Owner</td>\n",
       "      <td>No</td>\n",
       "      <td>No</td>\n",
       "      <td>2</td>\n",
       "      <td>BHK</td>\n",
       "      <td>1300.236407</td>\n",
       "      <td>Yes</td>\n",
       "      <td>Yes</td>\n",
       "      <td>Ksfc Layout,Bangalore</td>\n",
       "      <td>12.969910</td>\n",
       "      <td>77.597960</td>\n",
       "      <td>55.0</td>\n",
       "    </tr>\n",
       "    <tr>\n",
       "      <th>1</th>\n",
       "      <td>Dealer</td>\n",
       "      <td>No</td>\n",
       "      <td>No</td>\n",
       "      <td>2</td>\n",
       "      <td>BHK</td>\n",
       "      <td>1275.000000</td>\n",
       "      <td>Yes</td>\n",
       "      <td>Yes</td>\n",
       "      <td>Vishweshwara Nagar,Mysore</td>\n",
       "      <td>12.274538</td>\n",
       "      <td>76.644605</td>\n",
       "      <td>51.0</td>\n",
       "    </tr>\n",
       "    <tr>\n",
       "      <th>2</th>\n",
       "      <td>Owner</td>\n",
       "      <td>No</td>\n",
       "      <td>No</td>\n",
       "      <td>2</td>\n",
       "      <td>BHK</td>\n",
       "      <td>933.159722</td>\n",
       "      <td>Yes</td>\n",
       "      <td>Yes</td>\n",
       "      <td>Jigani,Bangalore</td>\n",
       "      <td>12.778033</td>\n",
       "      <td>77.632191</td>\n",
       "      <td>43.0</td>\n",
       "    </tr>\n",
       "    <tr>\n",
       "      <th>3</th>\n",
       "      <td>Owner</td>\n",
       "      <td>No</td>\n",
       "      <td>Yes</td>\n",
       "      <td>2</td>\n",
       "      <td>BHK</td>\n",
       "      <td>929.921143</td>\n",
       "      <td>Yes</td>\n",
       "      <td>Yes</td>\n",
       "      <td>Sector-1 Vaishali,Ghaziabad</td>\n",
       "      <td>28.642300</td>\n",
       "      <td>77.344500</td>\n",
       "      <td>62.5</td>\n",
       "    </tr>\n",
       "    <tr>\n",
       "      <th>4</th>\n",
       "      <td>Dealer</td>\n",
       "      <td>Yes</td>\n",
       "      <td>No</td>\n",
       "      <td>2</td>\n",
       "      <td>BHK</td>\n",
       "      <td>999.009247</td>\n",
       "      <td>No</td>\n",
       "      <td>Yes</td>\n",
       "      <td>New Town,Kolkata</td>\n",
       "      <td>22.592200</td>\n",
       "      <td>88.484911</td>\n",
       "      <td>60.5</td>\n",
       "    </tr>\n",
       "  </tbody>\n",
       "</table>\n",
       "</div>"
      ],
      "text/plain": [
       "  posted_by under_construction rera_approved  num_of_rooms bhk_or_rk  \\\n",
       "0     Owner                 No            No             2       BHK   \n",
       "1    Dealer                 No            No             2       BHK   \n",
       "2     Owner                 No            No             2       BHK   \n",
       "3     Owner                 No           Yes             2       BHK   \n",
       "4    Dealer                Yes            No             2       BHK   \n",
       "\n",
       "    total_area ready_to_move resale                      address  longitude  \\\n",
       "0  1300.236407           Yes    Yes        Ksfc Layout,Bangalore  12.969910   \n",
       "1  1275.000000           Yes    Yes    Vishweshwara Nagar,Mysore  12.274538   \n",
       "2   933.159722           Yes    Yes             Jigani,Bangalore  12.778033   \n",
       "3   929.921143           Yes    Yes  Sector-1 Vaishali,Ghaziabad  28.642300   \n",
       "4   999.009247            No    Yes             New Town,Kolkata  22.592200   \n",
       "\n",
       "    latitude  price  \n",
       "0  77.597960   55.0  \n",
       "1  76.644605   51.0  \n",
       "2  77.632191   43.0  \n",
       "3  77.344500   62.5  \n",
       "4  88.484911   60.5  "
      ]
     },
     "execution_count": 20,
     "metadata": {},
     "output_type": "execute_result"
    }
   ],
   "source": [
    "df.head()"
   ]
  },
  {
   "cell_type": "markdown",
   "id": "25b5027e",
   "metadata": {},
   "source": [
    "### **Handle Outliers**\n",
    "In the real-estate industry, we need to know precisely what data point does not make sense, especially for numerical columns."
   ]
  },
  {
   "cell_type": "code",
   "execution_count": 28,
   "id": "231cd1e4",
   "metadata": {},
   "outputs": [
    {
     "data": {
      "image/png": "[encoded data removed]",
      "text/plain": [
       "<Figure size 2000x500 with 5 Axes>"
      ]
     },
     "metadata": {},
     "output_type": "display_data"
    }
   ],
   "source": [
    "df[['longitude', 'latitude', 'num_of_rooms', 'total_area', 'price']]\\\n",
    "    .plot(kind='box', subplots=True, layout=(1, 5), figsize=(20, 5))\n",
    "plt.suptitle('Box plots for Numerical Features')\n",
    "plt.show()"
   ]
  },
  {
   "cell_type": "code",
   "execution_count": null,
   "id": "2930294f",
   "metadata": {},
   "outputs": [],
   "source": []
  }
 ],
 "metadata": {
  "kernelspec": {
   "display_name": "mlbase",
   "language": "python",
   "name": "python3"
  },
  "language_info": {
   "codemirror_mode": {
    "name": "ipython",
    "version": 3
   },
   "file_extension": ".py",
   "mimetype": "text/x-python",
   "name": "python",
   "nbconvert_exporter": "python",
   "pygments_lexer": "ipython3",
   "version": "3.13.5"
  }
 },
 "nbformat": 4,
 "nbformat_minor": 5
}
