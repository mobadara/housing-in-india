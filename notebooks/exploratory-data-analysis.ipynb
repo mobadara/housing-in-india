{
  "cells": [
    {
      "cell_type": "markdown",
      "metadata": {
        "id": "WWbZQ2967ob0"
      },
      "source": [
        "![Housing In India](https://github.com/mobadara/housing-in-india/blob/main/assets/images/houses.jpeg?raw=1)\n",
        "\n",
        "# 🏠 **Housing Prices in India: Exploratory Data Analysis**\n",
        "\n",
        "\n",
        "[![Open in Colab](https://colab.research.google.com/assets/colab-badge.svg)](https://colab.research.google.com/github/mobadara/housing-in-india/blob/main/notebooks/exploratory-data-analysis.ipynb)\n",
        "\n",
        "\n",
        "## 🧭 **Project Overview**\n",
        "\n",
        "India’s housing market is diverse and dynamic, shaped by rapid urbanization, regional disparities, and evolving economic factors. Understanding property price variations across different regions requires more than just statistical summaries — it calls for an analytical deep dive into **location, infrastructure, and socioeconomic variables**.\n",
        "\n",
        "This notebook focuses on performing an **Exploratory Data Analysis (EDA)** to understand the structure and relationships within the dataset before any cleaning or modeling is performed.  \n",
        "Insights gained from this analysis will directly guide **data cleaning, transformation, and feature engineering** in the next phase.\n",
        "\n",
        "---\n",
        "\n",
        "## 🗂️ **Notebook Outline**\n",
        "0. Setup\n",
        "1. Dataset Inspection\n",
        "2. Descriptive Statistics\n",
        "3. Distribution Analysis  \n",
        "4. Feature Relationships  \n",
        "5. Outlier Detection  \n",
        "6. Missing Data Patterns  \n",
        "7. Cleaning & Transformation Recommendations  \n",
        "\n",
        "---\n",
        "\n",
        "\n",
        "> 💡 **Note:** This notebook focuses purely on analysis.  \n",
        "> All cleaning, preprocessing, and modeling steps will be implemented in subsequent notebooks for reproducibility and clarity.\n",
        "\n",
        "---\n",
        "\n",
        "## **Setup**\n",
        "In this phase, I use imported the required python packages (local and those installed using `pip`), downloaded the dataset using `kagglehub` package and put the dataset in the right format. The downloaded dataset contains three `csv` files: `train.csv`, `test.csv` and `sample_submission.csv`. **Sample Submission** is a **one-column** dataset, column being the predicted **house price** from the **test dataset** (`test.csv`). The test dataset does not contain the target (price in lacs).\n",
        "\n",
        "The version of the packages used are also printed for reproducibility and reporting purposes."
      ]
    },
    {
      "cell_type": "code",
      "execution_count": 1,
      "metadata": {},
      "outputs": [],
      "source": [
        "# Import necessary packages\n",
        "import kagglehub\n",
        "import os\n",
        "import sys\n",
        "import pandas as pd"
      ]
    },
    {
      "cell_type": "code",
      "execution_count": 2,
      "metadata": {
        "id": "yL0K6SI46X9s"
      },
      "outputs": [],
      "source": [
        "# Download Dataset\n",
        "# Download latest version\n",
        "# try:\n",
        "#     path = kagglehub.dataset_download(\"anmolkumar/house-price-prediction-challenge\")\n",
        "# except Exception as e:\n",
        "#     print(f\"Error downloading dataset: {e}\")\n",
        "#     print(\"Use the available dataset in the data folder.\")"
      ]
    },
    {
      "cell_type": "code",
      "execution_count": 3,
      "metadata": {},
      "outputs": [
        {
          "name": "stdout",
          "output_type": "stream",
          "text": [
            "cp: cannot stat '{path}/*': No such file or directory\n",
            "rm: cannot remove '{path}': No such file or directory\n",
            "Dataset downloaded to ../data/\n",
            "Files in ../data/: ['sample_submission.csv', 'train.csv', 'test.csv']\n"
          ]
        }
      ],
      "source": [
        "# Set up Environment\n",
        "MODULE_PATH = os.path.abspath(os.path.join(\"..\", \"src\"))\n",
        "if not os.path.exists(\"../data\"):\n",
        "    os.makedirs('../data')\n",
        "if MODULE_PATH not in sys.path:\n",
        "    sys.path.insert(0, MODULE_PATH)\n",
        "!cp -r {path}/* ../data/\n",
        "!rm -r {path}\n",
        "print(f'Dataset downloaded to ../data/')\n",
        "print(f'Files in ../data/: {os.listdir(\"../data/\")}')"
      ]
    },
    {
      "cell_type": "code",
      "execution_count": 4,
      "metadata": {},
      "outputs": [],
      "source": [
        "# Import personal packages\n",
        "from analysis.inspection import Inspector"
      ]
    },
    {
      "cell_type": "markdown",
      "metadata": {},
      "source": [
        "## **Dataset Inspection**"
      ]
    },
    {
      "cell_type": "code",
      "execution_count": 5,
      "metadata": {},
      "outputs": [],
      "source": [
        "df_train = pd.read_csv(\"../data/train.csv\");"
      ]
    },
    {
      "cell_type": "code",
      "execution_count": 6,
      "metadata": {},
      "outputs": [
        {
          "name": "stdout",
          "output_type": "stream",
          "text": [
            "Dataset Shape: (29451, 12)\n",
            "\n",
            "Data Types:\n",
            "------------------------------\n"
          ]
        },
        {
          "data": {
            "text/plain": [
              "POSTED_BY                 object\n",
              "UNDER_CONSTRUCTION         int64\n",
              "RERA                       int64\n",
              "BHK_NO.                    int64\n",
              "BHK_OR_RK                 object\n",
              "SQUARE_FT                float64\n",
              "READY_TO_MOVE              int64\n",
              "RESALE                     int64\n",
              "ADDRESS                   object\n",
              "LONGITUDE                float64\n",
              "LATITUDE                 float64\n",
              "TARGET(PRICE_IN_LACS)    float64\n",
              "dtype: object"
            ]
          },
          "metadata": {},
          "output_type": "display_data"
        },
        {
          "name": "stdout",
          "output_type": "stream",
          "text": [
            "\n",
            "Basic Information:\n",
            "------------------------------\n",
            "<class 'pandas.core.frame.DataFrame'>\n",
            "RangeIndex: 29451 entries, 0 to 29450\n",
            "Data columns (total 12 columns):\n",
            " #   Column                 Non-Null Count  Dtype  \n",
            "---  ------                 --------------  -----  \n",
            " 0   POSTED_BY              29451 non-null  object \n",
            " 1   UNDER_CONSTRUCTION     29451 non-null  int64  \n",
            " 2   RERA                   29451 non-null  int64  \n",
            " 3   BHK_NO.                29451 non-null  int64  \n",
            " 4   BHK_OR_RK              29451 non-null  object \n",
            " 5   SQUARE_FT              29451 non-null  float64\n",
            " 6   READY_TO_MOVE          29451 non-null  int64  \n",
            " 7   RESALE                 29451 non-null  int64  \n",
            " 8   ADDRESS                29451 non-null  object \n",
            " 9   LONGITUDE              29451 non-null  float64\n",
            " 10  LATITUDE               29451 non-null  float64\n",
            " 11  TARGET(PRICE_IN_LACS)  29451 non-null  float64\n",
            "dtypes: float64(4), int64(5), object(3)\n",
            "memory usage: 2.7+ MB\n"
          ]
        },
        {
          "data": {
            "text/plain": [
              "None"
            ]
          },
          "metadata": {},
          "output_type": "display_data"
        },
        {
          "data": {
            "text/plain": [
              "<analysis.inspection.Inspector at 0x7da7bdd50050>"
            ]
          },
          "execution_count": 6,
          "metadata": {},
          "output_type": "execute_result"
        }
      ],
      "source": [
        "inspector = Inspector(data=df_train)\n",
        "inspector.inspect()"
      ]
    },
    {
      "cell_type": "markdown",
      "metadata": {},
      "source": [
        "- The train dataset contains **29,451** instances with **12** fratures recorded for each instance.\n",
        "- There are three features of the `object` type which are `categorical` in the case of a pandas dataframe. These columns are `POSTED_BY`, `BHK_OR_RK` and `ADDRESS`.\n",
        "- The data contains four `float` features: The area covered by the house recorded as `SQUARE_FT`, latitude, longitude, (recorded as `LATITUDE`, `LONGITUDE` respectively) and the target feature **price** recorded as `TARGET(PRICE_IN_LACS)`.\n",
        "- The dataset contains five `int` features: `UNDER_CONSTRUCTION`, `RERA`, `BHK_NO`, `BHK_OR_RK`, `READY_TO_MOVE` and `RESALE`. Integers are whole numbers but often, datatypes recorded as integers store binary (0, 1) values. In other cases, it contains ordinal data, the cases will be processed accordingly.\n",
        "\n",
        "### **Actions to be taken:**\n",
        "- The inconsistencies in the column names will be handled in the **data cleaning** phase of the project. For instance, the target column will be remaned to `price` and all column names set to lower case and renamed to their respective meaning.\n",
        "- Take note of the columns (`int`) that stored binary values.\n",
        "- Take note for the object columns, and think about insights to extract from them and the right tools to use. "
      ]
    },
    {
      "cell_type": "code",
      "execution_count": 7,
      "metadata": {},
      "outputs": [
        {
          "name": "stdout",
          "output_type": "stream",
          "text": [
            "\n",
            "No missing values found.\n"
          ]
        }
      ],
      "source": [
        "inspector.missing_values();"
      ]
    },
    {
      "cell_type": "markdown",
      "metadata": {},
      "source": [
        "- The dataset contains **0** missing values."
      ]
    },
    {
      "cell_type": "code",
      "execution_count": 8,
      "metadata": {},
      "outputs": [
        {
          "name": "stdout",
          "output_type": "stream",
          "text": [
            "\n",
            "Number of duplicate rows: 401\n"
          ]
        }
      ],
      "source": [
        "inspector.duplicates();"
      ]
    },
    {
      "cell_type": "markdown",
      "metadata": {},
      "source": [
        "The dataset contains **401** duplicate rows. These will be handled in the data cleaning phase of the project."
      ]
    },
    {
      "cell_type": "markdown",
      "metadata": {},
      "source": [
        "## **Summary Statistics**"
      ]
    },
    {
      "cell_type": "code",
      "execution_count": 9,
      "metadata": {},
      "outputs": [
        {
          "name": "stdout",
          "output_type": "stream",
          "text": [
            "\n",
            "Summary Statistics: (including categorical data)\n",
            "------------------------------\n"
          ]
        },
        {
          "data": {
            "text/html": [
              "<div>\n",
              "<style scoped>\n",
              "    .dataframe tbody tr th:only-of-type {\n",
              "        vertical-align: middle;\n",
              "    }\n",
              "\n",
              "    .dataframe tbody tr th {\n",
              "        vertical-align: top;\n",
              "    }\n",
              "\n",
              "    .dataframe thead th {\n",
              "        text-align: right;\n",
              "    }\n",
              "</style>\n",
              "<table border=\"1\" class=\"dataframe\">\n",
              "  <thead>\n",
              "    <tr style=\"text-align: right;\">\n",
              "      <th></th>\n",
              "      <th>POSTED_BY</th>\n",
              "      <th>UNDER_CONSTRUCTION</th>\n",
              "      <th>RERA</th>\n",
              "      <th>BHK_NO.</th>\n",
              "      <th>BHK_OR_RK</th>\n",
              "      <th>SQUARE_FT</th>\n",
              "      <th>READY_TO_MOVE</th>\n",
              "      <th>RESALE</th>\n",
              "      <th>ADDRESS</th>\n",
              "      <th>LONGITUDE</th>\n",
              "      <th>LATITUDE</th>\n",
              "      <th>TARGET(PRICE_IN_LACS)</th>\n",
              "    </tr>\n",
              "  </thead>\n",
              "  <tbody>\n",
              "    <tr>\n",
              "      <th>count</th>\n",
              "      <td>29451</td>\n",
              "      <td>29451.000000</td>\n",
              "      <td>29451.000000</td>\n",
              "      <td>29451.000000</td>\n",
              "      <td>29451</td>\n",
              "      <td>2.945100e+04</td>\n",
              "      <td>29451.000000</td>\n",
              "      <td>29451.000000</td>\n",
              "      <td>29451</td>\n",
              "      <td>29451.000000</td>\n",
              "      <td>29451.000000</td>\n",
              "      <td>29451.000000</td>\n",
              "    </tr>\n",
              "    <tr>\n",
              "      <th>unique</th>\n",
              "      <td>3</td>\n",
              "      <td>NaN</td>\n",
              "      <td>NaN</td>\n",
              "      <td>NaN</td>\n",
              "      <td>2</td>\n",
              "      <td>NaN</td>\n",
              "      <td>NaN</td>\n",
              "      <td>NaN</td>\n",
              "      <td>6899</td>\n",
              "      <td>NaN</td>\n",
              "      <td>NaN</td>\n",
              "      <td>NaN</td>\n",
              "    </tr>\n",
              "    <tr>\n",
              "      <th>top</th>\n",
              "      <td>Dealer</td>\n",
              "      <td>NaN</td>\n",
              "      <td>NaN</td>\n",
              "      <td>NaN</td>\n",
              "      <td>BHK</td>\n",
              "      <td>NaN</td>\n",
              "      <td>NaN</td>\n",
              "      <td>NaN</td>\n",
              "      <td>Zirakpur,Chandigarh</td>\n",
              "      <td>NaN</td>\n",
              "      <td>NaN</td>\n",
              "      <td>NaN</td>\n",
              "    </tr>\n",
              "    <tr>\n",
              "      <th>freq</th>\n",
              "      <td>18291</td>\n",
              "      <td>NaN</td>\n",
              "      <td>NaN</td>\n",
              "      <td>NaN</td>\n",
              "      <td>29427</td>\n",
              "      <td>NaN</td>\n",
              "      <td>NaN</td>\n",
              "      <td>NaN</td>\n",
              "      <td>509</td>\n",
              "      <td>NaN</td>\n",
              "      <td>NaN</td>\n",
              "      <td>NaN</td>\n",
              "    </tr>\n",
              "    <tr>\n",
              "      <th>mean</th>\n",
              "      <td>NaN</td>\n",
              "      <td>0.179756</td>\n",
              "      <td>0.317918</td>\n",
              "      <td>2.392279</td>\n",
              "      <td>NaN</td>\n",
              "      <td>1.980217e+04</td>\n",
              "      <td>0.820244</td>\n",
              "      <td>0.929578</td>\n",
              "      <td>NaN</td>\n",
              "      <td>21.300255</td>\n",
              "      <td>76.837695</td>\n",
              "      <td>142.898746</td>\n",
              "    </tr>\n",
              "    <tr>\n",
              "      <th>std</th>\n",
              "      <td>NaN</td>\n",
              "      <td>0.383991</td>\n",
              "      <td>0.465675</td>\n",
              "      <td>0.879091</td>\n",
              "      <td>NaN</td>\n",
              "      <td>1.901335e+06</td>\n",
              "      <td>0.383991</td>\n",
              "      <td>0.255861</td>\n",
              "      <td>NaN</td>\n",
              "      <td>6.205306</td>\n",
              "      <td>10.557747</td>\n",
              "      <td>656.880713</td>\n",
              "    </tr>\n",
              "    <tr>\n",
              "      <th>min</th>\n",
              "      <td>NaN</td>\n",
              "      <td>0.000000</td>\n",
              "      <td>0.000000</td>\n",
              "      <td>1.000000</td>\n",
              "      <td>NaN</td>\n",
              "      <td>3.000000e+00</td>\n",
              "      <td>0.000000</td>\n",
              "      <td>0.000000</td>\n",
              "      <td>NaN</td>\n",
              "      <td>-37.713008</td>\n",
              "      <td>-121.761248</td>\n",
              "      <td>0.250000</td>\n",
              "    </tr>\n",
              "    <tr>\n",
              "      <th>25%</th>\n",
              "      <td>NaN</td>\n",
              "      <td>0.000000</td>\n",
              "      <td>0.000000</td>\n",
              "      <td>2.000000</td>\n",
              "      <td>NaN</td>\n",
              "      <td>9.000211e+02</td>\n",
              "      <td>1.000000</td>\n",
              "      <td>1.000000</td>\n",
              "      <td>NaN</td>\n",
              "      <td>18.452663</td>\n",
              "      <td>73.798100</td>\n",
              "      <td>38.000000</td>\n",
              "    </tr>\n",
              "    <tr>\n",
              "      <th>50%</th>\n",
              "      <td>NaN</td>\n",
              "      <td>0.000000</td>\n",
              "      <td>0.000000</td>\n",
              "      <td>2.000000</td>\n",
              "      <td>NaN</td>\n",
              "      <td>1.175057e+03</td>\n",
              "      <td>1.000000</td>\n",
              "      <td>1.000000</td>\n",
              "      <td>NaN</td>\n",
              "      <td>20.750000</td>\n",
              "      <td>77.324137</td>\n",
              "      <td>62.000000</td>\n",
              "    </tr>\n",
              "    <tr>\n",
              "      <th>75%</th>\n",
              "      <td>NaN</td>\n",
              "      <td>0.000000</td>\n",
              "      <td>1.000000</td>\n",
              "      <td>3.000000</td>\n",
              "      <td>NaN</td>\n",
              "      <td>1.550688e+03</td>\n",
              "      <td>1.000000</td>\n",
              "      <td>1.000000</td>\n",
              "      <td>NaN</td>\n",
              "      <td>26.900926</td>\n",
              "      <td>77.828740</td>\n",
              "      <td>100.000000</td>\n",
              "    </tr>\n",
              "    <tr>\n",
              "      <th>max</th>\n",
              "      <td>NaN</td>\n",
              "      <td>1.000000</td>\n",
              "      <td>1.000000</td>\n",
              "      <td>20.000000</td>\n",
              "      <td>NaN</td>\n",
              "      <td>2.545455e+08</td>\n",
              "      <td>1.000000</td>\n",
              "      <td>1.000000</td>\n",
              "      <td>NaN</td>\n",
              "      <td>59.912884</td>\n",
              "      <td>152.962676</td>\n",
              "      <td>30000.000000</td>\n",
              "    </tr>\n",
              "  </tbody>\n",
              "</table>\n",
              "</div>"
            ],
            "text/plain": [
              "       POSTED_BY  UNDER_CONSTRUCTION          RERA       BHK_NO. BHK_OR_RK  \\\n",
              "count      29451        29451.000000  29451.000000  29451.000000     29451   \n",
              "unique         3                 NaN           NaN           NaN         2   \n",
              "top       Dealer                 NaN           NaN           NaN       BHK   \n",
              "freq       18291                 NaN           NaN           NaN     29427   \n",
              "mean         NaN            0.179756      0.317918      2.392279       NaN   \n",
              "std          NaN            0.383991      0.465675      0.879091       NaN   \n",
              "min          NaN            0.000000      0.000000      1.000000       NaN   \n",
              "25%          NaN            0.000000      0.000000      2.000000       NaN   \n",
              "50%          NaN            0.000000      0.000000      2.000000       NaN   \n",
              "75%          NaN            0.000000      1.000000      3.000000       NaN   \n",
              "max          NaN            1.000000      1.000000     20.000000       NaN   \n",
              "\n",
              "           SQUARE_FT  READY_TO_MOVE        RESALE              ADDRESS  \\\n",
              "count   2.945100e+04   29451.000000  29451.000000                29451   \n",
              "unique           NaN            NaN           NaN                 6899   \n",
              "top              NaN            NaN           NaN  Zirakpur,Chandigarh   \n",
              "freq             NaN            NaN           NaN                  509   \n",
              "mean    1.980217e+04       0.820244      0.929578                  NaN   \n",
              "std     1.901335e+06       0.383991      0.255861                  NaN   \n",
              "min     3.000000e+00       0.000000      0.000000                  NaN   \n",
              "25%     9.000211e+02       1.000000      1.000000                  NaN   \n",
              "50%     1.175057e+03       1.000000      1.000000                  NaN   \n",
              "75%     1.550688e+03       1.000000      1.000000                  NaN   \n",
              "max     2.545455e+08       1.000000      1.000000                  NaN   \n",
              "\n",
              "           LONGITUDE      LATITUDE  TARGET(PRICE_IN_LACS)  \n",
              "count   29451.000000  29451.000000           29451.000000  \n",
              "unique           NaN           NaN                    NaN  \n",
              "top              NaN           NaN                    NaN  \n",
              "freq             NaN           NaN                    NaN  \n",
              "mean       21.300255     76.837695             142.898746  \n",
              "std         6.205306     10.557747             656.880713  \n",
              "min       -37.713008   -121.761248               0.250000  \n",
              "25%        18.452663     73.798100              38.000000  \n",
              "50%        20.750000     77.324137              62.000000  \n",
              "75%        26.900926     77.828740             100.000000  \n",
              "max        59.912884    152.962676           30000.000000  "
            ]
          },
          "metadata": {},
          "output_type": "display_data"
        },
        {
          "name": "stdout",
          "output_type": "stream",
          "text": [
            "\n",
            "Unique Values per Categorical Column:\n",
            "------------------------------\n",
            "\n",
            "Column: POSTED_BY (Unique Values: 3)\n",
            "------------------------------\n"
          ]
        },
        {
          "data": {
            "text/plain": [
              "array(['Owner', 'Dealer', 'Builder'], dtype=object)"
            ]
          },
          "metadata": {},
          "output_type": "display_data"
        },
        {
          "name": "stdout",
          "output_type": "stream",
          "text": [
            "\n",
            "Column: UNDER_CONSTRUCTION (Unique Values: 2)\n",
            "------------------------------\n"
          ]
        },
        {
          "data": {
            "text/plain": [
              "array([0, 1])"
            ]
          },
          "metadata": {},
          "output_type": "display_data"
        },
        {
          "name": "stdout",
          "output_type": "stream",
          "text": [
            "\n",
            "Column: RERA (Unique Values: 2)\n",
            "------------------------------\n"
          ]
        },
        {
          "data": {
            "text/plain": [
              "array([0, 1])"
            ]
          },
          "metadata": {},
          "output_type": "display_data"
        },
        {
          "name": "stdout",
          "output_type": "stream",
          "text": [
            "There are more than 10 unique values.\n",
            "\n",
            "Column: BHK_OR_RK (Unique Values: 2)\n",
            "------------------------------\n"
          ]
        },
        {
          "data": {
            "text/plain": [
              "array(['BHK', 'RK'], dtype=object)"
            ]
          },
          "metadata": {},
          "output_type": "display_data"
        },
        {
          "name": "stdout",
          "output_type": "stream",
          "text": [
            "\n",
            "Column: READY_TO_MOVE (Unique Values: 2)\n",
            "------------------------------\n"
          ]
        },
        {
          "data": {
            "text/plain": [
              "array([1, 0])"
            ]
          },
          "metadata": {},
          "output_type": "display_data"
        },
        {
          "name": "stdout",
          "output_type": "stream",
          "text": [
            "\n",
            "Column: RESALE (Unique Values: 2)\n",
            "------------------------------\n"
          ]
        },
        {
          "data": {
            "text/plain": [
              "array([1, 0])"
            ]
          },
          "metadata": {},
          "output_type": "display_data"
        },
        {
          "name": "stdout",
          "output_type": "stream",
          "text": [
            "There are more than 10 unique values.\n"
          ]
        }
      ],
      "source": [
        "inspector.statistics();"
      ]
    },
    {
      "cell_type": "markdown",
      "metadata": {},
      "source": [
        "- All features contains the same number of instances (**29,451**). This is possible because the dataset contains no missing values, as seen in the inspection in the section above.\n",
        "- `POSTED_BY` has three unique values: **Owner**, **Dealer**, **Builder**, with **Dealer** being the most occuring value (mode). This is reasonable as dealers are professionals at marketing real-estate products. Out of the **29,451** houses, **18,291** are posted by the dealer.\n",
        "- `UNDER_CONSTRUCTION` has two unique values (0, 1), meaning this is a binary colum  indicating if the house is **under construction** or **not**. This feature is an `integer` feature with a mean of **0.179756** with a standard deviation of **0.383991**. The value of the mean is closer to 0 which suggests that most houses are **not under construction** (more **0** values for this feature). This is also confirmed by the first, second, and third quartile which are all zeros. The data ranges between 0 and 1, and with a standard deviation of **0.383991**, a three-standard deviation ($3 \\times 0.383991 = 1.153$) which is only a bit above the maximum value in the feature distribution.\n",
        "- f  "
      ]
    },
    {
      "cell_type": "code",
      "execution_count": 10,
      "metadata": {},
      "outputs": [
        {
          "data": {
            "text/plain": [
              "1.1519730000000001"
            ]
          },
          "execution_count": 10,
          "metadata": {},
          "output_type": "execute_result"
        }
      ],
      "source": [
        "3 * 0.383991"
      ]
    },
    {
      "cell_type": "code",
      "execution_count": null,
      "metadata": {},
      "outputs": [],
      "source": []
    }
  ],
  "metadata": {
    "colab": {
      "authorship_tag": "ABX9TyOqO1EHvibR6x11ii1qWuoW",
      "provenance": []
    },
    "kernelspec": {
      "display_name": "mlbase",
      "language": "python",
      "name": "python3"
    },
    "language_info": {
      "codemirror_mode": {
        "name": "ipython",
        "version": 3
      },
      "file_extension": ".py",
      "mimetype": "text/x-python",
      "name": "python",
      "nbconvert_exporter": "python",
      "pygments_lexer": "ipython3",
      "version": "3.13.5"
    }
  },
  "nbformat": 4,
  "nbformat_minor": 0
}
