{
  "cells": [
    {
      "cell_type": "markdown",
      "metadata": {
        "id": "WWbZQ2967ob0"
      },
      "source": [
        "![Housing In India](https://github.com/mobadara/housing-in-india/blob/main/assets/images/houses.jpeg?raw=1)\n",
        "\n",
        "# 🏠 **Housing Prices in India: Exploratory Data Analysis**\n",
        "\n",
        "\n",
        "[![Open in Colab](https://colab.research.google.com/assets/colab-badge.svg)](https://colab.research.google.com/github/mobadara/housing-in-india/blob/main/notebooks/exploratory-data-analysis.ipynb)\n",
        "\n",
        "\n",
        "## 🧭 **Project Overview**\n",
        "\n",
        "India’s housing market is diverse and dynamic, shaped by rapid urbanization, regional disparities, and evolving economic factors. Understanding property price variations across different regions requires more than just statistical summaries — it calls for an analytical deep dive into **location, infrastructure, and socioeconomic variables**.\n",
        "\n",
        "This notebook focuses on performing an **Exploratory Data Analysis (EDA)** to understand the structure and relationships within the dataset before any cleaning or modeling is performed.  \n",
        "Insights gained from this analysis will directly guide **data cleaning, transformation, and feature engineering** in the next phase.\n",
        "\n",
        "---\n",
        "\n",
        "## 🗂️ **Notebook Outline**\n",
        "0. Setup\n",
        "1. Dataset Overview  \n",
        "2. Descriptive Statistics  \n",
        "3. Distribution Analysis  \n",
        "4. Feature Relationships  \n",
        "5. Outlier Detection  \n",
        "6. Missing Data Patterns  \n",
        "7. Cleaning & Transformation Recommendations  \n",
        "\n",
        "---\n",
        "\n",
        "\n",
        "> 💡 **Note:** This notebook focuses purely on analysis.  \n",
        "> All cleaning, preprocessing, and modeling steps will be implemented in subsequent notebooks for reproducibility and clarity.\n",
        "\n",
        "---\n",
        "\n",
        "## **Setup**\n",
        "In this phase, I use imported the required python packages (local and those installed using `pip`), downloaded the dataset using `kagglehub` package and put the dataset in the right format. The downloaded dataset contains three `csv` files: `train.csv`, `test.csv` and `sample_submission.csv`. **Sample Submission** is a **one-column** dataset, column being the predicted **house price** from the **test dataset** (`test.csv`). The test dataset does not contain the target (price in lacs).\n",
        "\n",
        "The version of the packages used are also printed for reproducibility and reporting purposes."
      ]
    },
    {
      "cell_type": "code",
      "execution_count": 1,
      "metadata": {},
      "outputs": [],
      "source": [
        "# Import necessary packages\n",
        "import kagglehub\n",
        "import os\n",
        "import sys\n",
        "import pandas as pd"
      ]
    },
    {
      "cell_type": "code",
      "execution_count": 2,
      "metadata": {
        "id": "yL0K6SI46X9s"
      },
      "outputs": [],
      "source": [
        "# Download Dataset\n",
        "# Download latest version\n",
        "# try:\n",
        "#     path = kagglehub.dataset_download(\"anmolkumar/house-price-prediction-challenge\")\n",
        "# except Exception as e:\n",
        "#     print(f\"Error downloading dataset: {e}\")\n",
        "#     print(\"Use the available dataset in the data folder.\")"
      ]
    },
    {
      "cell_type": "code",
      "execution_count": 3,
      "metadata": {},
      "outputs": [
        {
          "name": "stdout",
          "output_type": "stream",
          "text": [
            "cp: cannot stat '{path}/*': No such file or directory\n",
            "rm: cannot remove '{path}': No such file or directory\n",
            "Dataset downloaded to ../data/\n",
            "Files in ../data/: ['sample_submission.csv', 'train.csv', 'test.csv']\n"
          ]
        }
      ],
      "source": [
        "# Set up Environment\n",
        "MODULE_PATH = os.path.abspath(os.path.join(\"..\", \"src\"))\n",
        "if not os.path.exists(\"../data\"):\n",
        "    os.makedirs('../data')\n",
        "if MODULE_PATH not in sys.path:\n",
        "    sys.path.insert(0, MODULE_PATH)\n",
        "!cp -r {path}/* ../data/\n",
        "!rm -r {path}\n",
        "print(f'Dataset downloaded to ../data/')\n",
        "print(f'Files in ../data/: {os.listdir(\"../data/\")}')"
      ]
    },
    {
      "cell_type": "code",
      "execution_count": 4,
      "metadata": {},
      "outputs": [],
      "source": [
        "# Import personal packages\n",
        "from analysis.inspection import Inspector"
      ]
    },
    {
      "cell_type": "markdown",
      "metadata": {},
      "source": [
        "## **Dataset Overview**"
      ]
    },
    {
      "cell_type": "code",
      "execution_count": 5,
      "metadata": {},
      "outputs": [],
      "source": [
        "df_train = pd.read_csv(\"../data/train.csv\")"
      ]
    },
    {
      "cell_type": "code",
      "execution_count": 6,
      "metadata": {},
      "outputs": [
        {
          "name": "stdout",
          "output_type": "stream",
          "text": [
            "Dataset Shape: (29451, 12)\n",
            "\n",
            "Data Types:\n",
            "------------------------------\n"
          ]
        },
        {
          "data": {
            "text/plain": [
              "POSTED_BY                 object\n",
              "UNDER_CONSTRUCTION         int64\n",
              "RERA                       int64\n",
              "BHK_NO.                    int64\n",
              "BHK_OR_RK                 object\n",
              "SQUARE_FT                float64\n",
              "READY_TO_MOVE              int64\n",
              "RESALE                     int64\n",
              "ADDRESS                   object\n",
              "LONGITUDE                float64\n",
              "LATITUDE                 float64\n",
              "TARGET(PRICE_IN_LACS)    float64\n",
              "dtype: object"
            ]
          },
          "metadata": {},
          "output_type": "display_data"
        },
        {
          "name": "stdout",
          "output_type": "stream",
          "text": [
            "\n",
            "Basic Information:\n",
            "------------------------------\n",
            "<class 'pandas.core.frame.DataFrame'>\n",
            "RangeIndex: 29451 entries, 0 to 29450\n",
            "Data columns (total 12 columns):\n",
            " #   Column                 Non-Null Count  Dtype  \n",
            "---  ------                 --------------  -----  \n",
            " 0   POSTED_BY              29451 non-null  object \n",
            " 1   UNDER_CONSTRUCTION     29451 non-null  int64  \n",
            " 2   RERA                   29451 non-null  int64  \n",
            " 3   BHK_NO.                29451 non-null  int64  \n",
            " 4   BHK_OR_RK              29451 non-null  object \n",
            " 5   SQUARE_FT              29451 non-null  float64\n",
            " 6   READY_TO_MOVE          29451 non-null  int64  \n",
            " 7   RESALE                 29451 non-null  int64  \n",
            " 8   ADDRESS                29451 non-null  object \n",
            " 9   LONGITUDE              29451 non-null  float64\n",
            " 10  LATITUDE               29451 non-null  float64\n",
            " 11  TARGET(PRICE_IN_LACS)  29451 non-null  float64\n",
            "dtypes: float64(4), int64(5), object(3)\n",
            "memory usage: 2.7+ MB\n"
          ]
        },
        {
          "data": {
            "text/plain": [
              "None"
            ]
          },
          "metadata": {},
          "output_type": "display_data"
        },
        {
          "data": {
            "text/plain": [
              "<analysis.inspection.Inspector at 0x735c15f78440>"
            ]
          },
          "execution_count": 6,
          "metadata": {},
          "output_type": "execute_result"
        }
      ],
      "source": [
        "inspector = Inspector(data=df_train)\n",
        "inspector.inspect()"
      ]
    },
    {
      "cell_type": "markdown",
      "metadata": {},
      "source": [
        "## **Data Inspection**\n",
        "- The train dataset contains **29,451** instances with **12** fratures recorded for each instance.\n",
        "- There are three features of the `object` type which are `categorical` in the case of a pandas dataframe. These columns are `POSTED_BY`, `BHK_OR_RK` and `ADDRESS`.\n",
        "- The data contains four `float` features: The area covered by the house recorded as `SQUARE_FT`, latitude, longitude, (recorded as `LATITUDE`, `LONGITUDE` respectively) and the target feature **price** recorded as `TARGET(PRICE_IN_LACS)`.\n",
        "- The dataset contains five `int` features: `UNDER_CONSTRUCTION`, `RERA`, `BHK_NO`, `BHK_OR_RK`, `READY_TO_MOVE` and `RESALE`. Integers are whole numbers but often, datatypes recorded as integers store binary (0, 1) values. In other cases, it contains ordinal data, the cases will be processed accordingly.\n",
        "\n",
        "### **Actions to be taken:**\n",
        "- The inconsistencies in the column names will be handled in the **data cleaning** phase of the project.\n",
        "- Take note of the columns (`int`) that stored binary values.\n",
        "- Take note for the object columns, and think about insights to extract from them and the right tools to use. "
      ]
    },
    {
      "cell_type": "code",
      "execution_count": null,
      "metadata": {},
      "outputs": [],
      "source": []
    }
  ],
  "metadata": {
    "colab": {
      "authorship_tag": "ABX9TyOqO1EHvibR6x11ii1qWuoW",
      "provenance": []
    },
    "kernelspec": {
      "display_name": "mlbase",
      "language": "python",
      "name": "python3"
    },
    "language_info": {
      "codemirror_mode": {
        "name": "ipython",
        "version": 3
      },
      "file_extension": ".py",
      "mimetype": "text/x-python",
      "name": "python",
      "nbconvert_exporter": "python",
      "pygments_lexer": "ipython3",
      "version": "3.13.5"
    }
  },
  "nbformat": 4,
  "nbformat_minor": 0
}
